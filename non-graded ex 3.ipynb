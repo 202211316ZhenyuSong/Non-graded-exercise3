{
 "cells": [
  {
   "cell_type": "markdown",
   "metadata": {},
   "source": [
    "Create a treasure hunt game where a user has to figure out the location of the treasure on a grid by using just the commands of E, W, N, and S, indicating East, West, North, and South, respectively. \n",
    "\n",
    "REQUIREMENTS:\n",
    "1. Define the size of the grid. It could be any number, but start from 5\n",
    "2. Assign the player a random position on the map. Do the same for the location of the treasure. (HINT: use randint() to generate a random set of coordinates)\n",
    "    2.1. Since it's 2-dimensional grid, the location of both the player and the treasure will be coordinates, like (x,y)\n",
    "3. Decide the maximum moves the player can make and keep track of the number of moves.\n",
    "4. Calculate the initial distance between the player and the treasure location\n",
    "5. Allow player to make as many moves as maximum moves allowed\n",
    "    5.1. Depending on which direction the player moves (N, S, E, or W), recalculate player's position and their distance from the treasure location\n",
    "    5.2. If the move brings player closer to the treasure, let the user know that they are getting closer\n",
    "    5.3. If the move takes player away from the treasure, let the user know that they are moving farther\n",
    "    5.4. If the player makes an illegal move, then let the user know that that move is not allowed. \n",
    "    5.5. If the new player position is the same as the treasure position, let the user know that they have found the treasure\n",
    "    5.6. If the moves made by the player are the same as maximum moves allowed, let the user know that no more moves are possible and that they have lost the game. Also show them where the treasure was located.\n",
    "    5.7. If there are still moves left, then the game should continue and keep asking the user for their moves. \n"
   ]
  },
  {
   "cell_type": "code",
   "execution_count": 1,
   "metadata": {},
   "outputs": [
    {
     "name": "stdout",
     "output_type": "stream",
     "text": [
      "Congratulations! You found the treasure!\n"
     ]
    }
   ],
   "source": [
    "import random\n",
    "\n",
    "grid_size = 5\n",
    "\n",
    "player_position = [random.randint(0, grid_size - 1), random.randint(0, grid_size - 1)]\n",
    "#print(player_position)\n",
    "treasure_position = [random.randint(0, grid_size - 1), random.randint(0, grid_size - 1)]\n",
    "#Same logic as above\n",
    "while player_position == treasure_position:\n",
    "    treasure_position = [random.randint(0, grid_size - 1), random.randint(0, grid_size - 1)]\n",
    "\n",
    "max_moves = 10\n",
    "moves_made = 0\n",
    "\n",
    "def calculate_distance(pos1, pos2):\n",
    "    return abs(pos1[0] - pos2[0]) + abs(pos1[1] - pos2[1])\n",
    "\n",
    "def display_grid(player_position):\n",
    "    grid = [['?' for _ in range(grid_size)] for _ in range(grid_size)]\n",
    "    grid[player_position[1]][player_position[0]] = 'P'\n",
    "    for row in grid:\n",
    "        print(' '.join(row))\n",
    "\n",
    "initial_distance = calculate_distance(player_position, treasure_position)\n",
    "\n",
    "print(f\"Initial player position: {player_position}\")\n",
    "print(f\"Initial distance to treasure: {initial_distance}\")\n",
    "\n",
    "while moves_made < max_moves:\n",
    "    move = input(\"Enter your move (N, S, E, W): \").upper()\n",
    "    \n",
    "    if move not in ['N', 'S', 'E', 'W']:\n",
    "        print(\"Invalid move. Please enter N, S, E, or W.\")\n",
    "        continue\n",
    "    \n",
    "    x, y = player_position\n",
    "    \n",
    "    if move == 'N':\n",
    "        new_position = [x, y - 1]\n",
    "    elif move == 'S':\n",
    "        new_position = [x, y + 1]\n",
    "    elif move == 'E':\n",
    "        new_position = [x + 1, y]\n",
    "    elif move == 'W':\n",
    "        new_position = [x - 1, y]\n",
    "    \n",
    "    if 0 <= new_position[0] < grid_size and 0 <= new_position[1] < grid_size:\n",
    "        player_position = new_position\n",
    "        moves_made += 1\n",
    "        new_distance = calculate_distance(player_position, treasure_position)\n",
    "        \n",
    "        if player_position == treasure_position:\n",
    "            print(\"Congratulations! You found the treasure!\")\n",
    "            break\n",
    "        elif new_distance < initial_distance:\n",
    "            print(\"You are getting closer!\")\n",
    "        else:\n",
    "            print(\"You are moving farther away!\")\n",
    "        \n",
    "        initial_distance = new_distance\n",
    "    else:\n",
    "        print(\"Move not allowed. You are trying to move outside the grid.\")\n",
    "    \n",
    "    print(f\"Your current position: {player_position}\")\n",
    "    print(f\"Your move times: {moves_made}\")\n",
    "    print(f\"Distance: {initial_distance}\")\n",
    "    display_grid(player_position)\n",
    "    print(f\"Moves left: {max_moves - moves_made}\")\n",
    "\n",
    "if player_position != treasure_position:\n",
    "    print(f\"Game over! You've used all your moves. The treasure was at {treasure_position}.\")\n"
   ]
  },
  {
   "cell_type": "code",
   "execution_count": null,
   "metadata": {},
   "outputs": [],
   "source": []
  }
 ],
 "metadata": {
  "kernelspec": {
   "display_name": "Python 3",
   "language": "python",
   "name": "python3"
  },
  "language_info": {
   "codemirror_mode": {
    "name": "ipython",
    "version": 3
   },
   "file_extension": ".py",
   "mimetype": "text/x-python",
   "name": "python",
   "nbconvert_exporter": "python",
   "pygments_lexer": "ipython3",
   "version": "3.8.10"
  }
 },
 "nbformat": 4,
 "nbformat_minor": 2
}
